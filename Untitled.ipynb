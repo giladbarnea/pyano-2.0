{
 "cells": [
  {
   "cell_type": "code",
   "execution_count": 25,
   "metadata": {},
   "outputs": [],
   "source": [
    "import time\n",
    "import re\n",
    "import os"
   ]
  },
  {
   "cell_type": "code",
   "execution_count": 22,
   "metadata": {},
   "outputs": [
    {
     "data": {
      "text/plain": [
       "'declarations/util.d.ts'"
      ]
     },
     "execution_count": 22,
     "metadata": {},
     "output_type": "execute_result"
    }
   ],
   "source": [
    "file='declarations/util.d.ts'"
   ]
  },
  {
   "cell_type": "code",
   "execution_count": 23,
   "metadata": {},
   "outputs": [],
   "source": [
    "with open(file) as f:\n",
    "    txt=f.read()"
   ]
  },
  {
   "cell_type": "code",
   "execution_count": 24,
   "metadata": {},
   "outputs": [
    {
     "data": {
      "text/plain": [
       "'./node_modules/electron'"
      ]
     },
     "execution_count": 24,
     "metadata": {},
     "output_type": "execute_result"
    }
   ],
   "source": [
    "path=re.search(r'(?<=/// <reference types=\")[^\"]*',txt).group()"
   ]
  },
  {
   "cell_type": "code",
   "execution_count": 29,
   "metadata": {},
   "outputs": [
    {
     "data": {
      "text/plain": [
       "'/// <reference types=\"../node_modules/electron\" />\\nimport type { Enumerated } from \"./bhe\";\\ndeclare function str(val: any): any;\\n/**\\n @example\\n\\n > [\\n .    1,\\n .    \\'0\\',\\n .    \\' \\',\\n .    true,\\n .    \\'foo\\',\\n .    { hi : \\'bye\\' },\\n .    ()=>{},\\n .    function(){},\\n .    Boolean,\\n .    Boolean(true),\\n .    Function,\\n .    Function(),\\n .    Number,\\n .    Number(1),\\n .    [0],\\n .    [1],\\n .    [[]],\\n .    [false],\\n .    [true],\\n .    document.body,\\n .    new Boolean(true),\\n .    new Function,\\n .    new Function(),\\n .    new Number(1),\\n . ].map(bool).every(x=>x===true)\\n true\\n\\n > [\\n .    0,\\n .    \\'\\',\\n .    [],     // unlike native\\n .    {},       // unlike native\\n .    false,\\n .    null,\\n .    undefined,\\n .    Boolean(),\\n .    Boolean(false),\\n .    new Boolean,        // unlike native\\n .    new Boolean(),      // unlike native\\n .    new Boolean(false),     // unlike native\\n .    Number(),       // unlike native\\n .    Number(0),       // unlike native\\n .    new Number,\\n .    new Number(),       // unlike native\\n .    new Number(0),\\n .    new class{},       // unlike native\\n . ].map(bool).some(x=>x===true)\\n false\\n */\\ndeclare function bool(val: any): boolean;\\ndeclare function enumerate<T>(obj: T): Enumerated<T>;\\ndeclare function wait(ms: number, honorSkipFade?: boolean): Promise<any>;\\n/**Check every `checkInterval` ms if `cond()` is truthy. If, within `timeout`, cond() is truthy, return `true`. Return `false` if time is out.\\n * @example\\n * // Give the user a 200ms chance to get her pointer over \"mydiv\". Continue immediately once she does, or after 200ms if she doesn\\'t.\\n * mydiv.pointerenter( () => mydiv.pointerHovering = true; )\\n * const pointerOnMydiv = await waitUntil(() => mydiv.pointerHovering, 10, 200);*/\\ndeclare function waitUntil(cond: () => boolean, checkInterval?: number, timeout?: number): Promise<boolean>;\\ndeclare function isString(obj: any): obj is string;\\ndeclare function isArray<T>(obj: any): obj is Array<T>;\\n/**\\n @example\\n > [\\n .    [],\\n .    {},\\n . ].map(isEmpty).every(x=>x===true)\\n true\\n > [\\n .    0,\\n .    1,\\n .    \\'\\',\\n .    \\' \\',\\n .    \\'0\\',\\n .    \\'1\\',\\n .    ()=>{},\\n .    Boolean,\\n .    Boolean(),\\n .    Function,\\n .    Function(),\\n .    Number,\\n .    Number(),\\n .    [ 1 ],\\n .    false,\\n .    function(){},\\n .    new Boolean(),\\n .    new Boolean(false),\\n .    new Boolean(true),\\n .    new Function(),\\n .    new Number(0),\\n .    new Number(1),\\n .    new Number(),\\n .    null,\\n .    true,\\n .    undefined,\\n .    { hi : \\'bye\\' },\\n . ].map(isEmpty).some(x=>x===true)\\n false\\n * */\\ndeclare function isEmpty(obj: any): boolean;\\n/**\\n * @example\\n * > isEmptyArr([])\\n * true\\n > [\\n .    0,\\n .    \\'\\',\\n .    1,\\n .    \\'0\\',\\n .    \\' \\',\\n .    ()=>{},\\n .    \\'1\\',\\n .    Boolean(),\\n .    Boolean,\\n .    Function(),\\n .    Function,\\n .    Number(),\\n .    Number,\\n .    false,\\n .    [ 1 ],\\n .    new Boolean(),\\n .    function(){},\\n .    new Boolean(true),\\n .    new Boolean(false),\\n .    new Number(0),\\n .    new Function(),\\n .    new Number(),\\n .    new Number(1),\\n .    true,\\n .    null,\\n .    { hi : \\'bye\\' },\\n .    undefined,\\n .    {},\\n . ].map(isEmptyArr).some(x=>x===true)\\n false\\n * */\\ndeclare function isEmptyArr(collection: any): boolean;\\n/**\\n @example\\n > [\\n .    {},\\n . ].map(isEmptyObj).every(x=>x===true)\\n true\\n\\n > [\\n .    0,\\n .    \\'\\',\\n .    [],\\n .    1,\\n .    \\'0\\',\\n .    \\' \\',\\n .    ()=>{},\\n .    \\'1\\',\\n .    Boolean(),\\n .    Boolean,\\n .    Function(),\\n .    Function,\\n .    Number(),\\n .    Number,\\n .    false,\\n .    new Boolean(),\\n .    new Boolean(true),\\n .    new Boolean(false),\\n .    new Number(0),\\n .    new Number(),\\n .    new Number(1),\\n .    [1],\\n .    function(){},\\n .    new Function(),\\n .    true,\\n .    null,\\n .    { hi : \\'bye\\' },\\n .    undefined,\\n . ].map(isEmptyObj).some(x=>x===true)\\n false\\n * */\\ndeclare function isEmptyObj(obj: any): boolean;\\n/**\\n @example\\n > [\\n .    ()=>{},\\n .    Boolean,\\n .    Function(),\\n .    Function,\\n .    Number,\\n .    function(){},\\n .    new Function(),\\n . ].map(isFunction).every(x=>x===true)\\n true\\n\\n > [\\n .    0,\\n .    \\'\\',\\n .    [],\\n .    1,\\n .    \\'0\\',\\n .    \\' \\',\\n .    \\'1\\',\\n .    {},\\n .    Boolean(),\\n .    Number(),\\n .    false,\\n .    new Boolean(),\\n .    new Boolean(true),\\n .    new Boolean(false),\\n .    new Number(0),\\n .    new Number(),\\n .    new Number(1),\\n .    [1],\\n .    true,\\n .    null,\\n .    { hi : \\'bye\\' },\\n .    undefined,\\n . ].map(isFunction).some(x=>x===true)\\n false\\n * */\\ndeclare function isFunction(fn: any): boolean;\\n/**\\n @example\\n > [\\n .    [],\\n .    [1],\\n .    new Boolean(),\\n .    new Boolean(true),\\n .    new Boolean(false),\\n .    new Number(),\\n .    new Number(0),\\n .    new Number(1),\\n .    {},\\n .    { hi : \\'bye\\' },\\n . ].map(isObject).every(x=>x===true)\\n true\\n\\n > [\\n .    0,\\n .    \\'\\',\\n .    1,\\n .    \\'0\\',\\n .    \\' \\',\\n .    \\'1\\',\\n .    ()=>{},\\n .    Boolean(),\\n .    Boolean,\\n .    Function(),\\n .    Function,\\n .    Number,\\n .    function(){},\\n .    new Function(),\\n .    Number(),\\n .    false,\\n .    true,\\n .    null,\\n .    undefined,\\n . ].map(isObject).some(x=>x===true)\\n false\\n * */\\ndeclare function isObject(obj: any): boolean;\\ndeclare function any(...args: any[]): boolean;\\ndeclare function all(...args: any): boolean;\\ndeclare function sum(arr: any[]): number | undefined;\\ndeclare function getCurrentWindow(): Electron.BrowserWindow;\\ndeclare function reloadPage(): void;\\ndeclare function range(start: number, stop: number): Generator<number>;\\ndeclare function saveScreenshots(): Promise<void>;\\ndeclare function ignoreErr(fn: (...args: any[]) => any): void;\\ndeclare function formatErr(e: Error): (string | Error | TMap<string>)[];\\ndeclare function safeExec(command: string, options?: any): string;\\n/**\\n * Returns ts (seconds since epoch).\\n * @param digits - default 0. digits=1 for ts in 0.1s resolution, digits=3 for ts in ms resolution\\n */\\ndeclare function now(digits?: number): number;\\nexport { all, any, bool, enumerate, formatErr, getCurrentWindow, ignoreErr, isArray, isEmpty, isEmptyArr, isEmptyObj, isFunction, isObject, isString, now, range, reloadPage, safeExec, saveScreenshots, str, sum, wait, waitUntil };\\n'"
      ]
     },
     "execution_count": 29,
     "metadata": {},
     "output_type": "execute_result"
    }
   ],
   "source": [
    "fixed=txt.replace(path, f'.{path}')"
   ]
  },
  {
   "cell_type": "code",
   "execution_count": null,
   "metadata": {},
   "outputs": [],
   "source": []
  }
 ],
 "metadata": {
  "kernelspec": {
   "display_name": "Python 3",
   "language": "python",
   "name": "python3"
  },
  "language_info": {
   "codemirror_mode": {
    "name": "ipython",
    "version": 3
   },
   "file_extension": ".py",
   "mimetype": "text/x-python",
   "name": "python",
   "nbconvert_exporter": "python",
   "pygments_lexer": "ipython3",
   "version": "3.8.2"
  }
 },
 "nbformat": 4,
 "nbformat_minor": 4
}
