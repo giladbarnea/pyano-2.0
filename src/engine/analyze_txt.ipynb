{
 "cells": [
  {
   "cell_type": "code",
   "execution_count": 4,
   "metadata": {},
   "outputs": [],
   "source": [
    "import pickle"
   ]
  },
  {
   "cell_type": "code",
   "execution_count": 5,
   "metadata": {},
   "outputs": [],
   "source": [
    "with open('/tmp/pyano/analyze_txt/dataobj', mode='r+b') as dataobj_f:\n",
    "    dataobj = pickle.load(dataobj_f)"
   ]
  },
  {
   "cell_type": "code",
   "execution_count": 6,
   "metadata": {},
   "outputs": [
    {
     "data": {
      "text/plain": [
       "{'truth_file': 'fur_elise_B',\n",
       " 'allowed_rhythm_deviation': '30%',\n",
       " 'allowed_tempo_deviation': '10%',\n",
       " 'level': {'notes': 46, 'rhythm': False, 'tempo': None, 'trials': 3},\n",
       " 'trial_msgs': [{'time': 7.089465000000018, 'note': 72, 'kind': 'off'},\n",
       "  {'time': 7.539195000000063, 'note': 74, 'kind': 'on', 'velocity': 100},\n",
       "  {'time': 7.580470000000105, 'note': 74, 'kind': 'off'},\n",
       "  {'time': 8.060244999999895, 'note': 76, 'kind': 'on', 'velocity': 100},\n",
       "  {'time': 8.11002499999995, 'note': 76, 'kind': 'off'}]}"
      ]
     },
     "execution_count": 6,
     "metadata": {},
     "output_type": "execute_result"
    }
   ],
   "source": [
    "dataobj"
   ]
  },
  {
   "cell_type": "code",
   "execution_count": 7,
   "metadata": {},
   "outputs": [],
   "source": [
    "with open('/tmp/pyano/analyze_txt/root', mode='r+b') as root_f:\n",
    "    root = pickle.load(root_f)"
   ]
  },
  {
   "cell_type": "code",
   "execution_count": 8,
   "metadata": {},
   "outputs": [
    {
     "data": {
      "text/plain": [
       "'/home/gilad/Code/pyano-2.0-electron-11'"
      ]
     },
     "execution_count": 8,
     "metadata": {},
     "output_type": "execute_result"
    }
   ],
   "source": [
    "root"
   ]
  },
  {
   "cell_type": "code",
   "execution_count": 29,
   "metadata": {},
   "outputs": [],
   "source": [
    "del analyze_txt"
   ]
  },
  {
   "cell_type": "code",
   "execution_count": 30,
   "metadata": {},
   "outputs": [],
   "source": [
    "from api import analyze_txt"
   ]
  },
  {
   "cell_type": "code",
   "execution_count": 11,
   "metadata": {},
   "outputs": [],
   "source": [
    "from common import log"
   ]
  },
  {
   "cell_type": "code",
   "execution_count": 31,
   "metadata": {},
   "outputs": [
    {
     "name": "stdout",
     "output_type": "stream",
     "text": [
      "[05.02.2021][17:16:43] TITLE    trial_msgs = [{'time':         analyze_txt.py:53\n",
      "                                7.089465000000018, 'note': 72,                  \n",
      "                                'kind': 'off', 'velocity':                      \n",
      "                                None, 'last_onmsg_time':                        \n",
      "                                None}, {'time':                                 \n",
      "                                7.539195000000063, 'note': 74,                  \n",
      "                                'kind': 'on', 'velocity': 100,                  \n",
      "                                'last_onmsg_time': None},                       \n",
      "                                {'time': 7.580470000000105,                     \n",
      "                                'note': 74, 'kind': 'off',                      \n",
      "                                'velocity': None,                               \n",
      "                                'last_onmsg_time': None},                       \n",
      "                                {'time': 8.060244999999895,                     \n",
      "                                'note': 76, 'kind': 'on',                       \n",
      "                                'velocity': 100,                                \n",
      "                                'last_onmsg_time': 7.5392},                     \n",
      "                                {'time': 8.11002499999995,                      \n",
      "                                'note': 76, 'kind': 'off',                      \n",
      "                                'velocity': None,                               \n",
      "                                'last_onmsg_time': None}] |                     \n",
      "                                level = {'notes': 46,                           \n",
      "                                'rhythm': False, 'tempo':                       \n",
      "                                None, 'trials': 3} |                            \n",
      "                                truth_file = 'fur_elise_B' |                    \n",
      "                                allowed_rhythm_deviation =                      \n",
      "                                '30%' |                                         \n",
      "                                allowed_tempo_deviation =                       \n",
      "                                '10%'                                           \n",
      "                       DEBUG    truth_file_path = PosixPath('/ analyze_txt.py:81\n",
      "                                home/gilad/Code/pyano-2.0-elec                  \n",
      "                                tron-11/src/experiments/truths                  \n",
      "                                /fur_elise_B.txt')                              \n",
      "                       DEBUG    truth_msgs = {                 analyze_txt.py:84\n",
      "                                '_is_self_normalized': True,                    \n",
      "                                  'chords': OrderedDict([ (16,                  \n",
      "                                [17]),                                          \n",
      "                                                          (25,                  \n",
      "                                [26]),                                          \n",
      "                                                          (35,                  \n",
      "                                [36]),                                          \n",
      "                                                          (58,                  \n",
      "                                [59]),                                          \n",
      "                                                          (68,                  \n",
      "                                [69]),                                          \n",
      "                                                          (78,                  \n",
      "                                [79]),                                          \n",
      "                                                          (88,                  \n",
      "                                [89]),                                          \n",
      "                                                          (97,                  \n",
      "                                [99]),                                          \n",
      "                                                          (108                  \n",
      "                                , [109]),                                       \n",
      "                                                          (117                  \n",
      "                                , [119]),                                       \n",
      "                                                          (140                  \n",
      "                                , [141]),                                       \n",
      "                                                          (150                  \n",
      "                                , [151]),                                       \n",
      "                                                          (160                  \n",
      "                                , [161])]),                                     \n",
      "                                  'msgs': 164}                                  \n",
      "TONODE_WARN__START\n",
      "\"chords() got self.msgs that only has on messages, len(self.msgs): 2\"\n",
      "TONODE_WARN__END\n",
      "TONODE_WARN__START\n",
      "\"chords() got self.msgs that only has on messages, len(self.msgs): 82\"\n",
      "TONODE_WARN__END\n"
     ]
    },
    {
     "name": "stderr",
     "output_type": "stream",
     "text": [
      "/home/gilad/Code/pyano-2.0-electron-11/src/engine/api/analyze_txt.py:83: RuntimeWarning: Ignoring unimportable $PYTHONBREAKPOINT: \"ipdbx.set_trace\"\n",
      "  breakpoint()\n"
     ]
    },
    {
     "ename": "AttributeError",
     "evalue": "'dict' object has no attribute 'notes'",
     "output_type": "error",
     "traceback": [
      "\u001b[0;31m---------------------------------------------------------------------------\u001b[0m",
      "\u001b[0;31mAttributeError\u001b[0m                            Traceback (most recent call last)",
      "\u001b[0;32m<ipython-input-31-d5c7ae21b623>\u001b[0m in \u001b[0;36m<module>\u001b[0;34m\u001b[0m\n\u001b[0;32m----> 1\u001b[0;31m \u001b[0manalyze_txt\u001b[0m\u001b[0;34m.\u001b[0m\u001b[0mmain\u001b[0m\u001b[0;34m(\u001b[0m\u001b[0mroot\u001b[0m\u001b[0;34m,\u001b[0m \u001b[0;34m**\u001b[0m\u001b[0mdataobj\u001b[0m\u001b[0;34m)\u001b[0m\u001b[0;34m\u001b[0m\u001b[0;34m\u001b[0m\u001b[0m\n\u001b[0m",
      "\u001b[0;32m~/Code/pyano-2.0-electron-11/src/engine/api/analyze_txt.py\u001b[0m in \u001b[0;36mmain\u001b[0;34m(root_abs_path, trial_msgs, level, truth_file, allowed_rhythm_deviation, allowed_tempo_deviation)\u001b[0m\n\u001b[1;32m     90\u001b[0m     \u001b[0mtruth_on_msgs\u001b[0m \u001b[0;34m=\u001b[0m \u001b[0mMsgList\u001b[0m\u001b[0;34m(\u001b[0m\u001b[0mtruth_msgs\u001b[0m\u001b[0;34m.\u001b[0m\u001b[0msplit_to_on_off\u001b[0m\u001b[0;34m(\u001b[0m\u001b[0;34m)\u001b[0m\u001b[0;34m[\u001b[0m\u001b[0;36m0\u001b[0m\u001b[0;34m]\u001b[0m\u001b[0;34m)\u001b[0m\u001b[0;34m.\u001b[0m\u001b[0mnormalized\u001b[0m\u001b[0;34m\u001b[0m\u001b[0;34m\u001b[0m\u001b[0m\n\u001b[1;32m     91\u001b[0m     \u001b[0msubj_on_msgs_len\u001b[0m \u001b[0;34m=\u001b[0m \u001b[0mlen\u001b[0m\u001b[0;34m(\u001b[0m\u001b[0msubj_on_msgs\u001b[0m\u001b[0;34m)\u001b[0m\u001b[0;34m\u001b[0m\u001b[0;34m\u001b[0m\u001b[0m\n\u001b[0;32m---> 92\u001b[0;31m     \u001b[0mtoo_many_notes\u001b[0m \u001b[0;34m=\u001b[0m \u001b[0msubj_on_msgs_len\u001b[0m \u001b[0;34m>\u001b[0m \u001b[0mlevel\u001b[0m\u001b[0;34m.\u001b[0m\u001b[0mnotes\u001b[0m\u001b[0;34m\u001b[0m\u001b[0;34m\u001b[0m\u001b[0m\n\u001b[0m\u001b[1;32m     93\u001b[0m     \u001b[0menough_notes\u001b[0m \u001b[0;34m=\u001b[0m \u001b[0msubj_on_msgs_len\u001b[0m \u001b[0;34m>=\u001b[0m \u001b[0mlevel\u001b[0m\u001b[0;34m.\u001b[0m\u001b[0mnotes\u001b[0m\u001b[0;34m\u001b[0m\u001b[0;34m\u001b[0m\u001b[0m\n\u001b[1;32m     94\u001b[0m \u001b[0;34m\u001b[0m\u001b[0m\n",
      "\u001b[0;31mAttributeError\u001b[0m: 'dict' object has no attribute 'notes'"
     ]
    }
   ],
   "source": [
    "analyze_txt.main(root, **dataobj)"
   ]
  }
 ],
 "metadata": {
  "kernelspec": {
   "display_name": "pyano-2-env",
   "language": "python",
   "name": "pyano-2-env"
  },
  "language_info": {
   "codemirror_mode": {
    "name": "ipython",
    "version": 3
   },
   "file_extension": ".py",
   "mimetype": "text/x-python",
   "name": "python",
   "nbconvert_exporter": "python",
   "pygments_lexer": "ipython3",
   "version": "3.8.5"
  }
 },
 "nbformat": 4,
 "nbformat_minor": 4
}
